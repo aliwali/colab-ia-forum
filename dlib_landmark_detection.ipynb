{
  "nbformat": 4,
  "nbformat_minor": 0,
  "metadata": {
    "colab": {
      "name": "dlib_landmark_detection.ipynb",
      "provenance": [],
      "collapsed_sections": [],
      "authorship_tag": "ABX9TyMsQTI43CuQQ4xnd/Vz69rC",
      "include_colab_link": true
    },
    "kernelspec": {
      "name": "python3",
      "display_name": "Python 3"
    }
  },
  "cells": [
    {
      "cell_type": "markdown",
      "metadata": {
        "id": "view-in-github",
        "colab_type": "text"
      },
      "source": [
        "<a href=\"https://colab.research.google.com/github/aliwali/colab-ia-forum/blob/master/dlib_landmark_detection.ipynb\" target=\"_parent\"><img src=\"https://colab.research.google.com/assets/colab-badge.svg\" alt=\"Open In Colab\"/></a>"
      ]
    },
    {
      "cell_type": "code",
      "metadata": {
        "id": "dlqPcvx8l4bm",
        "colab_type": "code",
        "colab": {}
      },
      "source": [
        "import os, sys\n",
        "from google.colab import drive\n",
        "drive.mount('/content/gdrive')"
      ],
      "execution_count": 0,
      "outputs": []
    },
    {
      "cell_type": "code",
      "metadata": {
        "id": "ZLmqi17BmGbR",
        "colab_type": "code",
        "colab": {}
      },
      "source": [
        "%cd /content/gdrive/My\\ Drive"
      ],
      "execution_count": 0,
      "outputs": []
    },
    {
      "cell_type": "code",
      "metadata": {
        "id": "VEbuDrzr_se7",
        "colab_type": "code",
        "colab": {}
      },
      "source": [
        "!wget https://s3-us-west-2.amazonaws.com/static.pyimagesearch.com/blink-detection/blink-detection.zip"
      ],
      "execution_count": 0,
      "outputs": []
    },
    {
      "cell_type": "code",
      "metadata": {
        "id": "M-qO2IbaAA7G",
        "colab_type": "code",
        "colab": {}
      },
      "source": [
        "!unzip blink-detection.zip\n",
        "%cd /content/gdrive/My\\ Drive/blink-detection"
      ],
      "execution_count": 0,
      "outputs": []
    },
    {
      "cell_type": "code",
      "metadata": {
        "id": "DnnK90S7Vf38",
        "colab_type": "code",
        "colab": {}
      },
      "source": [
        "!sudo apt-get install ffmpeg x264 libx264-dev"
      ],
      "execution_count": 0,
      "outputs": []
    },
    {
      "cell_type": "code",
      "metadata": {
        "id": "mm7nl6mfAOYs",
        "colab_type": "code",
        "colab": {}
      },
      "source": [
        "# USAGE\n",
        "# python detect_blinks.py --shape-predictor shape_predictor_68_face_landmarks.dat --video blink_detection_demo.mp4\n",
        "# python detect_blinks.py --shape-predictor shape_predictor_68_face_landmarks.dat\n",
        "\n",
        "# import the necessary packages\n",
        "from scipy.spatial import distance as dist\n",
        "from imutils.video import FileVideoStream\n",
        "from imutils.video import VideoStream\n",
        "from imutils import face_utils\n",
        "import numpy as np\n",
        "import argparse\n",
        "import imutils\n",
        "import time\n",
        "import dlib\n",
        "import cv2\n",
        "from google.colab.patches import cv2_imshow\n",
        "def eye_aspect_ratio(eye):\n",
        "\t# compute the euclidean distances between the two sets of\n",
        "\t# vertical eye landmarks (x, y)-coordinates\n",
        "\tA = dist.euclidean(eye[1], eye[5])\n",
        "\tB = dist.euclidean(eye[2], eye[4])\n",
        "\n",
        "\t# compute the euclidean distance between the horizontal\n",
        "\t# eye landmark (x, y)-coordinates\n",
        "\tC = dist.euclidean(eye[0], eye[3])\n",
        "\n",
        "\t# compute the eye aspect ratio\n",
        "\tear = (A + B) / (2.0 * C)\n",
        "\n",
        "\t# return the eye aspect ratio\n",
        "\treturn ear\n",
        " \n",
        "args={}\n",
        "args['shape_predictor'] ='shape_predictor_68_face_landmarks.dat'\n",
        "args['video']='blink_detection_demo.mp4'\n",
        "# define two constants, one for the eye aspect ratio to indicate\n",
        "# blink and then a second constant for the number of consecutive\n",
        "# frames the eye must be below the threshold\n",
        "EYE_AR_THRESH = 0.3\n",
        "EYE_AR_CONSEC_FRAMES = 3\n",
        "\n",
        "# initialize the frame counters and the total number of blinks\n",
        "COUNTER = 0\n",
        "TOTAL = 0\n",
        "\n",
        "# initialize dlib's face detector (HOG-based) and then create\n",
        "# the facial landmark predictor\n",
        "print(\"[INFO] loading facial landmark predictor...\")\n",
        "detector = dlib.get_frontal_face_detector()\n",
        "predictor = dlib.shape_predictor(args[\"shape_predictor\"])\n",
        "\n",
        "# grab the indexes of the facial landmarks for the left and\n",
        "# right eye, respectively\n",
        "(lStart, lEnd) = face_utils.FACIAL_LANDMARKS_IDXS[\"left_eye\"]\n",
        "(rStart, rEnd) = face_utils.FACIAL_LANDMARKS_IDXS[\"right_eye\"]\n",
        "\n",
        "# start the video stream thread\n",
        "print(\"[INFO] starting video stream thread...\")\n",
        "vs =FileVideoStream(args[\"video\"]).start()\n",
        "vs =cv2.VideoCapture(args[\"video\"])\n",
        "fileStream = True\n",
        "#vs.set(cv2.CAP_PROP_FRAME_WIDTH, 320)\n",
        "#vs.set(cv2.CAP_PROP_FRAME_HEIGHT, 240)\n",
        "# vs = VideoStream(src=0).start()\n",
        "# vs = VideoStream(usePiCamera=True).start()\n",
        "# fileStream = False\n",
        "time.sleep(1.0)\n",
        "# loop over frames from the video stream\n",
        "#while (vs.more()):\n",
        "imnum=0\n",
        "while True:\n",
        "\t# if this is a file video stream, then we need to check if\n",
        "\t# there any more frames left in the buffer to process\n",
        "\t#if fileStream and not vs.more():\n",
        "\t\t#break\n",
        "\n",
        "\t# grab the frame from the threaded video file stream, resize\n",
        "\t# it, and convert it to grayscale\n",
        "\t# channels)\n",
        "\t(grabbed, frame) = vs.read()\n",
        "\t# if the frame was not grabbed, then we have reached the end\n",
        "\t# of the stream\n",
        "\tif not grabbed:\n",
        "\t\tbreak\n",
        "\tframe = imutils.resize(frame, width=720, height=240)\n",
        "\tgray = cv2.cvtColor(frame, cv2.COLOR_BGR2GRAY)\n",
        "\n",
        "\t# detect faces in the grayscale frame\n",
        "\trects = detector(gray, 0)\n",
        "\n",
        "\t# loop over the face detections\n",
        "\tfor rect in rects:\n",
        "\t\t# determine the facial landmarks for the face region, then\n",
        "\t\t# convert the facial landmark (x, y)-coordinates to a NumPy\n",
        "\t\t# array\n",
        "\t\tshape = predictor(gray, rect)\n",
        "\t\tshape = face_utils.shape_to_np(shape)\n",
        "\n",
        "\t\t# extract the left and right eye coordinates, then use the\n",
        "\t\t# coordinates to compute the eye aspect ratio for both eyes\n",
        "\t\tleftEye = shape[lStart:lEnd]\n",
        "\t\trightEye = shape[rStart:rEnd]\n",
        "\t\tleftEAR = eye_aspect_ratio(leftEye)\n",
        "\t\trightEAR = eye_aspect_ratio(rightEye)\n",
        "\n",
        "\t\t# average the eye aspect ratio together for both eyes\n",
        "\t\tear = (leftEAR + rightEAR) / 2.0\n",
        "\n",
        "\t\t# compute the convex hull for the left and right eye, then\n",
        "\t\t# visualize each of the eyes\n",
        "\t\tleftEyeHull = cv2.convexHull(leftEye)\n",
        "\t\trightEyeHull = cv2.convexHull(rightEye)\n",
        "\t\tcv2.drawContours(frame, [leftEyeHull], -1, (0, 255, 0), 1)\n",
        "\t\tcv2.drawContours(frame, [rightEyeHull], -1, (0, 255, 0), 1)\n",
        "\n",
        "\t\t# check to see if the eye aspect ratio is below the blink\n",
        "\t\t# threshold, and if so, increment the blink frame counter\n",
        "\t\tif ear < EYE_AR_THRESH:\n",
        "\t\t\tCOUNTER += 1\n",
        "\n",
        "\t\t# otherwise, the eye aspect ratio is not below the blink\n",
        "\t\t# threshold\n",
        "\t\telse:\n",
        "\t\t\t# if the eyes were closed for a sufficient number of\n",
        "\t\t\t# then increment the total number of blinks\n",
        "\t\t\tif COUNTER >= EYE_AR_CONSEC_FRAMES:\n",
        "\t\t\t\tTOTAL += 1\n",
        "\n",
        "\t\t\t# reset the eye frame counter\n",
        "\t\t\tCOUNTER = 0\n",
        "\n",
        "\t\t# draw the total number of blinks on the frame along with\n",
        "\t\t# the computed eye aspect ratio for the frame\n",
        "\t\tcv2.putText(frame, \"Blinks: {}\".format(TOTAL), (10, 30),\n",
        "\t\t\tcv2.FONT_HERSHEY_SIMPLEX, 0.7, (0, 0, 255), 2)\n",
        "\t\tcv2.putText(frame, \"EAR: {:.2f}\".format(ear), (300, 30),\n",
        "\t\t\tcv2.FONT_HERSHEY_SIMPLEX, 0.7, (0, 0, 255), 2)\n",
        " \n",
        "\t# show the frame\n",
        "\t#outframe=frame.copy()\n",
        "\t#for i in range(20):\n",
        "\tcv2.imwrite(\"frame_\"+str(imnum)+\".jpg\", frame)\n",
        "\t\n",
        "\timnum=imnum+1\n",
        "\tcv2_imshow(frame)\n",
        "\tkey = cv2.waitKey(1) & 0xFF\n"
      ],
      "execution_count": 0,
      "outputs": []
    },
    {
      "cell_type": "code",
      "metadata": {
        "id": "BBKWnwXUfF8s",
        "colab_type": "code",
        "colab": {}
      },
      "source": [
        "!cat *.jpg | ffmpeg -y -f image2pipe -i - output.mp4"
      ],
      "execution_count": 0,
      "outputs": []
    },
    {
      "cell_type": "code",
      "metadata": {
        "id": "g4m6eT8Sl1sO",
        "colab_type": "code",
        "colab": {}
      },
      "source": [
        "from IPython.display import HTML\n",
        "from base64 import b64encode\n",
        "mp4 = open('output.mp4','rb').read()\n",
        "data_url = \"data:video/mp4;base64,\" + b64encode(mp4).decode()\n",
        "HTML(\"\"\"\n",
        "<video width=400 controls>\n",
        "      <source src=\"%s\" type=\"video/mp4\">\n",
        "</video>\n",
        "\"\"\" % data_url)"
      ],
      "execution_count": 0,
      "outputs": []
    }
  ]
}